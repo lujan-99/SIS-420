{
  "cells": [
    {
      "cell_type": "markdown",
      "metadata": {
        "id": "CTmoCWall_wx"
      },
      "source": [
        "# Clasificación multiclase\n",
        "\n",
        "## Introduction\n",
        "\n",
        "En este ejercicio se implementa la regresion one-vs-all y una red neuronal para reconocimiento de digitos.\n",
        "\n",
        "Antes de empezar la ejecución de las partes de codigo correspondienters a los ejercicios, se requiere importar todas las librerias necesarias."
      ]
    },
    {
      "cell_type": "markdown",
      "metadata": {},
      "source": [
        "Dataset\n",
        "https://www.kaggle.com/datasets/ilginkarakas/covtype"
      ]
    },
    {
      "cell_type": "code",
      "execution_count": 20,
      "metadata": {
        "id": "f4XR184_l_w0"
      },
      "outputs": [],
      "source": [
        "# utilizado para la manipulación de directorios y rutas\n",
        "import os\n",
        "\n",
        "# Cálculo científico y vectorial para python\n",
        "import numpy as np\n",
        "\n",
        "# Libreria para graficos\n",
        "from matplotlib import pyplot\n",
        "\n",
        "# Modulo de optimizacion en scipy\n",
        "from scipy import optimize\n",
        "import pandas as pd\n",
        "from sklearn.preprocessing import LabelEncoder\n",
        "import matplotlib.pyplot as plt\n",
        "from scipy.optimize import fmin_tnc\n",
        "\n",
        "# modulo para cargar archivos en formato MATLAB\n",
        "# from scipy.io import loadmat\n",
        "\n",
        "# le dice a matplotlib que incruste gráficos en el cuaderno\n",
        "%matplotlib inline"
      ]
    },
    {
      "cell_type": "markdown",
      "metadata": {
        "id": "0t5Nzxgm4ZqJ"
      },
      "source": [
        "Leer el dataset y definir numero de clases como entradas"
      ]
    },
    {
      "cell_type": "code",
      "execution_count": 21,
      "metadata": {
        "id": "-l0A_TyFl_w1"
      },
      "outputs": [],
      "source": [
        "\n",
        "input_layer_size  = 54\n",
        "\n",
        "# 7 etiquetas, de 1 a 7 (tomar en cuenta que se asigna \"0\" a la etiqueta 7)\n",
        "num_labels = 7\n",
        "file_path = 'covtype.csv'\n",
        "df = pd.read_csv(file_path)\n"
      ]
    },
    {
      "cell_type": "code",
      "execution_count": 22,
      "metadata": {
        "colab": {
          "base_uri": "https://localhost:8080/",
          "height": 255
        },
        "id": "TRXc88TOuPdJ",
        "outputId": "ac2bbc91-6eac-4c7a-b79a-a116cb527eb7"
      },
      "outputs": [
        {
          "data": {
            "text/html": [
              "<div>\n",
              "<style scoped>\n",
              "    .dataframe tbody tr th:only-of-type {\n",
              "        vertical-align: middle;\n",
              "    }\n",
              "\n",
              "    .dataframe tbody tr th {\n",
              "        vertical-align: top;\n",
              "    }\n",
              "\n",
              "    .dataframe thead th {\n",
              "        text-align: right;\n",
              "    }\n",
              "</style>\n",
              "<table border=\"1\" class=\"dataframe\">\n",
              "  <thead>\n",
              "    <tr style=\"text-align: right;\">\n",
              "      <th></th>\n",
              "      <th>Elevation</th>\n",
              "      <th>Aspect</th>\n",
              "      <th>Slope</th>\n",
              "      <th>Horizontal_Distance_To_Hydrology</th>\n",
              "      <th>Vertical_Distance_To_Hydrology</th>\n",
              "      <th>Horizontal_Distance_To_Roadways</th>\n",
              "      <th>Hillshade_9am</th>\n",
              "      <th>Hillshade_Noon</th>\n",
              "      <th>Hillshade_3pm</th>\n",
              "      <th>Horizontal_Distance_To_Fire_Points</th>\n",
              "      <th>...</th>\n",
              "      <th>Soil_Type32</th>\n",
              "      <th>Soil_Type33</th>\n",
              "      <th>Soil_Type34</th>\n",
              "      <th>Soil_Type35</th>\n",
              "      <th>Soil_Type36</th>\n",
              "      <th>Soil_Type37</th>\n",
              "      <th>Soil_Type38</th>\n",
              "      <th>Soil_Type39</th>\n",
              "      <th>Soil_Type40</th>\n",
              "      <th>Cover_Type</th>\n",
              "    </tr>\n",
              "  </thead>\n",
              "  <tbody>\n",
              "    <tr>\n",
              "      <th>0</th>\n",
              "      <td>2596</td>\n",
              "      <td>51</td>\n",
              "      <td>3</td>\n",
              "      <td>258</td>\n",
              "      <td>0</td>\n",
              "      <td>510</td>\n",
              "      <td>221</td>\n",
              "      <td>232</td>\n",
              "      <td>148</td>\n",
              "      <td>6279</td>\n",
              "      <td>...</td>\n",
              "      <td>0</td>\n",
              "      <td>0</td>\n",
              "      <td>0</td>\n",
              "      <td>0</td>\n",
              "      <td>0</td>\n",
              "      <td>0</td>\n",
              "      <td>0</td>\n",
              "      <td>0</td>\n",
              "      <td>0</td>\n",
              "      <td>5</td>\n",
              "    </tr>\n",
              "    <tr>\n",
              "      <th>1</th>\n",
              "      <td>2590</td>\n",
              "      <td>56</td>\n",
              "      <td>2</td>\n",
              "      <td>212</td>\n",
              "      <td>-6</td>\n",
              "      <td>390</td>\n",
              "      <td>220</td>\n",
              "      <td>235</td>\n",
              "      <td>151</td>\n",
              "      <td>6225</td>\n",
              "      <td>...</td>\n",
              "      <td>0</td>\n",
              "      <td>0</td>\n",
              "      <td>0</td>\n",
              "      <td>0</td>\n",
              "      <td>0</td>\n",
              "      <td>0</td>\n",
              "      <td>0</td>\n",
              "      <td>0</td>\n",
              "      <td>0</td>\n",
              "      <td>5</td>\n",
              "    </tr>\n",
              "    <tr>\n",
              "      <th>2</th>\n",
              "      <td>2804</td>\n",
              "      <td>139</td>\n",
              "      <td>9</td>\n",
              "      <td>268</td>\n",
              "      <td>65</td>\n",
              "      <td>3180</td>\n",
              "      <td>234</td>\n",
              "      <td>238</td>\n",
              "      <td>135</td>\n",
              "      <td>6121</td>\n",
              "      <td>...</td>\n",
              "      <td>0</td>\n",
              "      <td>0</td>\n",
              "      <td>0</td>\n",
              "      <td>0</td>\n",
              "      <td>0</td>\n",
              "      <td>0</td>\n",
              "      <td>0</td>\n",
              "      <td>0</td>\n",
              "      <td>0</td>\n",
              "      <td>2</td>\n",
              "    </tr>\n",
              "    <tr>\n",
              "      <th>3</th>\n",
              "      <td>2785</td>\n",
              "      <td>155</td>\n",
              "      <td>18</td>\n",
              "      <td>242</td>\n",
              "      <td>118</td>\n",
              "      <td>3090</td>\n",
              "      <td>238</td>\n",
              "      <td>238</td>\n",
              "      <td>122</td>\n",
              "      <td>6211</td>\n",
              "      <td>...</td>\n",
              "      <td>0</td>\n",
              "      <td>0</td>\n",
              "      <td>0</td>\n",
              "      <td>0</td>\n",
              "      <td>0</td>\n",
              "      <td>0</td>\n",
              "      <td>0</td>\n",
              "      <td>0</td>\n",
              "      <td>0</td>\n",
              "      <td>2</td>\n",
              "    </tr>\n",
              "    <tr>\n",
              "      <th>4</th>\n",
              "      <td>2595</td>\n",
              "      <td>45</td>\n",
              "      <td>2</td>\n",
              "      <td>153</td>\n",
              "      <td>-1</td>\n",
              "      <td>391</td>\n",
              "      <td>220</td>\n",
              "      <td>234</td>\n",
              "      <td>150</td>\n",
              "      <td>6172</td>\n",
              "      <td>...</td>\n",
              "      <td>0</td>\n",
              "      <td>0</td>\n",
              "      <td>0</td>\n",
              "      <td>0</td>\n",
              "      <td>0</td>\n",
              "      <td>0</td>\n",
              "      <td>0</td>\n",
              "      <td>0</td>\n",
              "      <td>0</td>\n",
              "      <td>5</td>\n",
              "    </tr>\n",
              "  </tbody>\n",
              "</table>\n",
              "<p>5 rows × 55 columns</p>\n",
              "</div>"
            ],
            "text/plain": [
              "   Elevation  Aspect  Slope  Horizontal_Distance_To_Hydrology  \\\n",
              "0       2596      51      3                               258   \n",
              "1       2590      56      2                               212   \n",
              "2       2804     139      9                               268   \n",
              "3       2785     155     18                               242   \n",
              "4       2595      45      2                               153   \n",
              "\n",
              "   Vertical_Distance_To_Hydrology  Horizontal_Distance_To_Roadways  \\\n",
              "0                               0                              510   \n",
              "1                              -6                              390   \n",
              "2                              65                             3180   \n",
              "3                             118                             3090   \n",
              "4                              -1                              391   \n",
              "\n",
              "   Hillshade_9am  Hillshade_Noon  Hillshade_3pm  \\\n",
              "0            221             232            148   \n",
              "1            220             235            151   \n",
              "2            234             238            135   \n",
              "3            238             238            122   \n",
              "4            220             234            150   \n",
              "\n",
              "   Horizontal_Distance_To_Fire_Points  ...  Soil_Type32  Soil_Type33  \\\n",
              "0                                6279  ...            0            0   \n",
              "1                                6225  ...            0            0   \n",
              "2                                6121  ...            0            0   \n",
              "3                                6211  ...            0            0   \n",
              "4                                6172  ...            0            0   \n",
              "\n",
              "   Soil_Type34  Soil_Type35  Soil_Type36  Soil_Type37  Soil_Type38  \\\n",
              "0            0            0            0            0            0   \n",
              "1            0            0            0            0            0   \n",
              "2            0            0            0            0            0   \n",
              "3            0            0            0            0            0   \n",
              "4            0            0            0            0            0   \n",
              "\n",
              "   Soil_Type39  Soil_Type40  Cover_Type  \n",
              "0            0            0           5  \n",
              "1            0            0           5  \n",
              "2            0            0           2  \n",
              "3            0            0           2  \n",
              "4            0            0           5  \n",
              "\n",
              "[5 rows x 55 columns]"
            ]
          },
          "execution_count": 22,
          "metadata": {},
          "output_type": "execute_result"
        }
      ],
      "source": [
        "df.head()"
      ]
    },
    {
      "cell_type": "code",
      "execution_count": 23,
      "metadata": {
        "colab": {
          "base_uri": "https://localhost:8080/"
        },
        "id": "oXGZ22YMuMSu",
        "outputId": "6743fd71-92c2-418f-8db7-4868e386181b"
      },
      "outputs": [
        {
          "name": "stdout",
          "output_type": "stream",
          "text": [
            "Dimensiones de X: (581012, 54)\n",
            "Dimensiones de Y: (581012,)\n"
          ]
        }
      ],
      "source": [
        "# Separar las características (X) y los labels (Y)\n",
        "X = df.iloc[:, :-1].values  # Todas las columnas excepto la primera\n",
        "Y = df.iloc[:, -1].values   # Solo la primera columna (label)\n",
        "m = Y.size\n",
        "\n",
        "# Confirmar las dimensiones de X e Y\n",
        "print(f\"Dimensiones de X: {X.shape}\")\n",
        "print(f\"Dimensiones de Y: {Y.shape}\")\n"
      ]
    },
    {
      "cell_type": "markdown",
      "metadata": {
        "id": "aLZDAUh74jLL"
      },
      "source": [
        "Normalizacion de los valores de x"
      ]
    },
    {
      "cell_type": "code",
      "execution_count": 24,
      "metadata": {
        "id": "G2fv-A00ygpN"
      },
      "outputs": [],
      "source": [
        "def  featureNormalize(X):\n",
        "\n",
        "    X_norm = X.copy()\n",
        "    mu = np.zeros(X.shape[1])\n",
        "    sigma = np.zeros(X.shape[1])\n",
        "\n",
        "    mu = np.mean(X, axis = 0)\n",
        "    sigma = np.std(X, axis = 0)\n",
        "    X_norm = (X - mu) / sigma\n",
        "\n",
        "    return X_norm, mu, sigma"
      ]
    },
    {
      "cell_type": "code",
      "execution_count": 25,
      "metadata": {
        "id": "bLOqLvlHvIb8"
      },
      "outputs": [],
      "source": [
        "# Dividimos los datos en conjuntos para entrenamiento y para prueba\n",
        "from sklearn.model_selection import train_test_split\n",
        "X_train, X_test, Y_train, y_test = train_test_split(X, Y, test_size=0.2, random_state=1)"
      ]
    },
    {
      "cell_type": "markdown",
      "metadata": {
        "id": "Xk-tnyJc4oQo"
      },
      "source": [
        "Normalizar los datos de entrenamiento"
      ]
    },
    {
      "cell_type": "code",
      "execution_count": 26,
      "metadata": {
        "id": "cXDeBht2ypfB"
      },
      "outputs": [],
      "source": [
        "X_norm, mu, sigma = featureNormalize(X_train)"
      ]
    },
    {
      "cell_type": "code",
      "execution_count": 27,
      "metadata": {
        "colab": {
          "base_uri": "https://localhost:8080/"
        },
        "id": "Ot2ZfWFBx1z9",
        "outputId": "fecf8101-0215-4b00-99a7-4030c8a00e1f"
      },
      "outputs": [
        {
          "name": "stdout",
          "output_type": "stream",
          "text": [
            "Dimensiones de X: (464809, 54)\n",
            "Dimensiones de Y: (464809,)\n"
          ]
        }
      ],
      "source": [
        "print(f\"Dimensiones de X: {X_train.shape}\")\n",
        "print(f\"Dimensiones de Y: {Y_train.shape}\")"
      ]
    },
    {
      "cell_type": "markdown",
      "metadata": {
        "id": "zX4zWju5zVBb"
      },
      "source": [
        "\n",
        "\n",
        "Se utiliza para \"comprimir\" cualquier número real a un rango entre 0 y 1, haciendo que sea útil para modelar probabilidades. Dada su forma en \"S\" o curva logística, la función sigmoide toma valores reales y los transforma en una salida que puede interpretarse como una probabilidad."
      ]
    },
    {
      "cell_type": "code",
      "execution_count": 28,
      "metadata": {
        "id": "AIBvKSM8l_w5"
      },
      "outputs": [],
      "source": [
        "def sigmoid(z):\n",
        "    return 1.0 / (1.0 + np.exp(-z))"
      ]
    },
    {
      "cell_type": "markdown",
      "metadata": {
        "id": "JKKMI9155GD5"
      },
      "source": [
        "Costo (J): Mide qué tan bien el modelo con los parámetros actuales (theta) está prediciendo las etiquetas y a partir de los datos de entrada X\n",
        "Gradiente (grad): Indica cómo deben ajustarse los parámetros theta para reducir el costo. Es esencial para algoritmos de optimización como el descenso por el gradiente"
      ]
    },
    {
      "cell_type": "code",
      "execution_count": 29,
      "metadata": {
        "id": "KXRcTi9Ll_w6"
      },
      "outputs": [],
      "source": [
        "def lrCostFunction(theta, X, y, lambda_):\n",
        "\n",
        "    # Inicializa algunos valores utiles\n",
        "    m = y.size\n",
        "\n",
        "    # convierte las etiquetas a valores enteros si son boleanos\n",
        "    if y.dtype == bool:\n",
        "        y = y.astype(int)\n",
        "\n",
        "    J = 0\n",
        "    grad = np.zeros(theta.shape)\n",
        "\n",
        "    h = sigmoid(X.dot(theta.T))\n",
        "\n",
        "    temp = theta\n",
        "    temp[0] = 0\n",
        "\n",
        "    J = (1 / m) * np.sum(-y.dot(np.log(h)) - (1 - y).dot(np.log(1 - h))) + (lambda_ / (2 * m)) * np.sum(np.square(temp))\n",
        "\n",
        "    # grad = (1 / m) * (h - y).dot(X)\n",
        "    # grad = grad + (lambda_ / m) * temp\n",
        "\n",
        "    grad = (1 / m) * (h - y).dot(X) + (lambda_ / m) * temp\n",
        "\n",
        "    return J, grad"
      ]
    },
    {
      "cell_type": "markdown",
      "metadata": {
        "id": "w7-T-c6P5V4I"
      },
      "source": [
        "entrena clasificadores binarios para cada clase en un problema multiclase y devuelve los parámetros aprendidos para cada uno"
      ]
    },
    {
      "cell_type": "code",
      "execution_count": 30,
      "metadata": {
        "id": "OuLQm96rl_w7"
      },
      "outputs": [],
      "source": [
        "def oneVsAll(X, y, num_labels, lambda_):\n",
        "    # algunas variables utiles\n",
        "    m, n = X.shape\n",
        "\n",
        "    # print(m, n)\n",
        "    all_theta = np.zeros((num_labels, n + 1))\n",
        "\n",
        "    # Agrega unos a la matriz X\n",
        "    X = np.concatenate([np.ones((m, 1)), X], axis=1)\n",
        "\n",
        "    for c in np.arange(num_labels):\n",
        "        initial_theta = np.zeros(n + 1)\n",
        "        options = {'maxiter': 50}\n",
        "        res = optimize.minimize(lrCostFunction,\n",
        "                                initial_theta,\n",
        "                                (X, (y == c), lambda_),\n",
        "                                jac=True,\n",
        "                                method='CG',\n",
        "                                options=options)\n",
        "        # print(res)\n",
        "        all_theta[c] = res.x\n",
        "\n",
        "    return all_theta"
      ]
    },
    {
      "cell_type": "code",
      "execution_count": 31,
      "metadata": {},
      "outputs": [
        {
          "name": "stderr",
          "output_type": "stream",
          "text": [
            "C:\\Users\\david\\AppData\\Local\\Temp\\ipykernel_19628\\2831633526.py:2: RuntimeWarning: overflow encountered in exp\n",
            "  return 1.0 / (1.0 + np.exp(-z))\n",
            "C:\\Users\\david\\AppData\\Local\\Temp\\ipykernel_19628\\1207231430.py:18: RuntimeWarning: divide by zero encountered in log\n",
            "  J = (1 / m) * np.sum(-y.dot(np.log(h)) - (1 - y).dot(np.log(1 - h))) + (lambda_ / (2 * m)) * np.sum(np.square(temp))\n",
            "C:\\Users\\david\\AppData\\Local\\Temp\\ipykernel_19628\\1207231430.py:18: RuntimeWarning: divide by zero encountered in log\n",
            "  J = (1 / m) * np.sum(-y.dot(np.log(h)) - (1 - y).dot(np.log(1 - h))) + (lambda_ / (2 * m)) * np.sum(np.square(temp))\n",
            "C:\\Users\\david\\AppData\\Local\\Temp\\ipykernel_19628\\2831633526.py:2: RuntimeWarning: overflow encountered in exp\n",
            "  return 1.0 / (1.0 + np.exp(-z))\n",
            "C:\\Users\\david\\AppData\\Local\\Temp\\ipykernel_19628\\1207231430.py:18: RuntimeWarning: divide by zero encountered in log\n",
            "  J = (1 / m) * np.sum(-y.dot(np.log(h)) - (1 - y).dot(np.log(1 - h))) + (lambda_ / (2 * m)) * np.sum(np.square(temp))\n",
            "C:\\Users\\david\\AppData\\Local\\Temp\\ipykernel_19628\\1207231430.py:18: RuntimeWarning: divide by zero encountered in log\n",
            "  J = (1 / m) * np.sum(-y.dot(np.log(h)) - (1 - y).dot(np.log(1 - h))) + (lambda_ / (2 * m)) * np.sum(np.square(temp))\n",
            "C:\\Users\\david\\AppData\\Local\\Temp\\ipykernel_19628\\2831633526.py:2: RuntimeWarning: overflow encountered in exp\n",
            "  return 1.0 / (1.0 + np.exp(-z))\n",
            "C:\\Users\\david\\AppData\\Local\\Temp\\ipykernel_19628\\1207231430.py:18: RuntimeWarning: divide by zero encountered in log\n",
            "  J = (1 / m) * np.sum(-y.dot(np.log(h)) - (1 - y).dot(np.log(1 - h))) + (lambda_ / (2 * m)) * np.sum(np.square(temp))\n",
            "C:\\Users\\david\\AppData\\Local\\Temp\\ipykernel_19628\\1207231430.py:18: RuntimeWarning: divide by zero encountered in log\n",
            "  J = (1 / m) * np.sum(-y.dot(np.log(h)) - (1 - y).dot(np.log(1 - h))) + (lambda_ / (2 * m)) * np.sum(np.square(temp))\n"
          ]
        }
      ],
      "source": [
        "lambda_ = 0.001\n",
        "all_theta = oneVsAll(X_train, Y_train, num_labels, lambda_)"
      ]
    },
    {
      "cell_type": "code",
      "execution_count": 32,
      "metadata": {
        "colab": {
          "base_uri": "https://localhost:8080/"
        },
        "id": "Z-cIuDYbMKRC",
        "outputId": "22961372-9a77-4e03-a329-bb2f791747d8"
      },
      "outputs": [
        {
          "name": "stdout",
          "output_type": "stream",
          "text": [
            "(7, 55)\n",
            "[-9.24616109e-06 -2.73652034e-02 -1.44035297e-03 -1.30386549e-04\n",
            " -2.49063733e-03 -4.29643818e-04 -2.17364144e-02 -1.96149081e-03\n",
            " -2.06513165e-03 -1.31817784e-03 -1.83357437e-02 -4.15170057e-06\n",
            " -4.76183990e-07 -4.03176936e-06 -5.86507175e-07 -4.72444221e-08\n",
            " -1.19473684e-07 -7.63867709e-08 -1.97630877e-07 -2.53627950e-08\n",
            " -1.04673747e-07 -1.69085300e-09 -3.00375063e-09 -1.84601363e-08\n",
            " -5.17659619e-07 -1.96218518e-07 -4.75845819e-07 -2.79388593e-07\n",
            " -9.70748546e-09 -3.97847765e-11 -4.58519549e-08 -5.46244981e-08\n",
            " -3.02165377e-08 -6.41529521e-08 -1.47581628e-07 -1.32085458e-08\n",
            " -5.28162800e-07 -9.20281557e-07 -3.39722206e-07 -7.20104455e-09\n",
            " -4.10976741e-08 -1.67096061e-08 -1.54762781e-08 -1.83724109e-06\n",
            " -4.80341499e-07 -4.06361707e-07 -8.37529222e-07 -7.18990481e-07\n",
            " -2.53429026e-08 -3.01369682e-08 -2.00913121e-09 -4.81395796e-09\n",
            " -2.47083354e-07 -2.20029706e-07 -1.39206933e-07]\n"
          ]
        }
      ],
      "source": [
        "print(all_theta.shape)\n",
        "print(all_theta[0])"
      ]
    },
    {
      "cell_type": "markdown",
      "metadata": {
        "id": "Fjaq8d155hgh"
      },
      "source": [
        "realiza predicciones para un conjunto de datos utilizando el modelo entrenado \"uno contra todos\" (One-vs-All)."
      ]
    },
    {
      "cell_type": "code",
      "execution_count": 33,
      "metadata": {
        "id": "YAM0lJjLl_w8"
      },
      "outputs": [],
      "source": [
        "def predictOneVsAll(all_theta, X):\n",
        "\n",
        "    m = X.shape[0];\n",
        "    num_labels = all_theta.shape[0]\n",
        "\n",
        "    p = np.zeros(m)\n",
        "\n",
        "    # Add ones to the X data matrix\n",
        "    X = np.concatenate([np.ones((m, 1)), X], axis=1)\n",
        "    p = np.argmax(sigmoid(X.dot(all_theta.T)), axis = 1)\n",
        "    #argmax devuelve el indice del que tiene la mayor probabilidad\n",
        "\n",
        "    return p"
      ]
    },
    {
      "cell_type": "code",
      "execution_count": 34,
      "metadata": {
        "colab": {
          "base_uri": "https://localhost:8080/"
        },
        "id": "ufihx3bUylRD",
        "outputId": "592fecad-8e17-40d1-c2f4-b4f73f1ce063"
      },
      "outputs": [
        {
          "name": "stdout",
          "output_type": "stream",
          "text": [
            "Dimensiones de X: (116203, 54)\n",
            "Dimensiones de Y: (116203,)\n"
          ]
        }
      ],
      "source": [
        "X_norm_test, mu, sigma = featureNormalize(X_test)\n",
        "\n",
        "# Confirmar las dimensiones de X e Y\n",
        "print(f\"Dimensiones de X: {X_test.shape}\")\n",
        "print(f\"Dimensiones de Y: {y_test.shape}\")"
      ]
    },
    {
      "cell_type": "code",
      "execution_count": 35,
      "metadata": {},
      "outputs": [],
      "source": [
        "def plot_cost_function(X, y, theta, lambda_):\n",
        "    \"\"\"\n",
        "    Calcula el costo de usar theta como parámetro para la regresión logística regularizada.\n",
        "    \"\"\"\n",
        "    J, _ = lrCostFunction(theta, X, y, lambda_)\n",
        "    return J"
      ]
    },
    {
      "cell_type": "code",
      "execution_count": 36,
      "metadata": {},
      "outputs": [
        {
          "name": "stdout",
          "output_type": "stream",
          "text": [
            "Tamaño de theta_for_class: (55,)\n",
            "Tamaño de X_norm: (464809, 54)\n",
            "Número de ejemplos: 464809\n",
            "Número de características: 54\n"
          ]
        },
        {
          "data": {
            "image/png": "[encoded data removed]",
            "text/plain": [
              "<Figure size 640x480 with 1 Axes>"
            ]
          },
          "metadata": {},
          "output_type": "display_data"
        }
      ],
      "source": [
        "theta_for_class = all_theta[0]\n",
        "print(\"Tamaño de theta_for_class:\", theta_for_class.shape)\n",
        "print(\"Tamaño de X_norm:\", X_norm.shape)\n",
        "print(\"Número de ejemplos:\", Y_train.shape[0])\n",
        "print(\"Número de características:\", X_norm.shape[1])\n",
        "cost_values = []\n",
        "theta_values = np.linspace(-1, 1, 100)\n",
        "for t in theta_values:\n",
        "    theta_test = np.copy(theta_for_class)\n",
        "    theta_test[1] = t\n",
        "    X_with_intercept = np.concatenate([np.ones((X_norm.shape[0], 1)), X_norm], axis=1)\n",
        "    cost = plot_cost_function(X_with_intercept, Y_train, theta_test, lambda_)\n",
        "    cost_values.append(cost)\n",
        "\n",
        "plt.plot(theta_values, cost_values, 'b-')\n",
        "plt.xlabel('Valor de theta')\n",
        "plt.ylabel('Costo')\n",
        "plt.title('Función de Costo para la Clase 0')\n",
        "plt.show()"
      ]
    },
    {
      "cell_type": "code",
      "execution_count": 37,
      "metadata": {},
      "outputs": [
        {
          "name": "stdout",
          "output_type": "stream",
          "text": [
            "Tamaño de theta_for_class: (55,)\n",
            "Tamaño de X_norm: (464809, 54)\n",
            "Número de ejemplos: 464809\n",
            "Número de características: 54\n"
          ]
        },
        {
          "name": "stderr",
          "output_type": "stream",
          "text": [
            "C:\\Users\\david\\AppData\\Local\\Temp\\ipykernel_19628\\2831633526.py:2: RuntimeWarning: overflow encountered in exp\n",
            "  return 1.0 / (1.0 + np.exp(-z))\n",
            "C:\\Users\\david\\AppData\\Local\\Temp\\ipykernel_19628\\1207231430.py:18: RuntimeWarning: divide by zero encountered in log\n",
            "  J = (1 / m) * np.sum(-y.dot(np.log(h)) - (1 - y).dot(np.log(1 - h))) + (lambda_ / (2 * m)) * np.sum(np.square(temp))\n"
          ]
        },
        {
          "data": {
            "image/png": "[encoded data removed]",
            "text/plain": [
              "<Figure size 640x480 with 1 Axes>"
            ]
          },
          "metadata": {},
          "output_type": "display_data"
        }
      ],
      "source": [
        "theta_for_class = all_theta[6]  # Clase 7 es el índice 6 (0-indexado)\n",
        "print(\"Tamaño de theta_for_class:\", theta_for_class.shape)\n",
        "print(\"Tamaño de X_norm:\", X_train.shape)\n",
        "print(\"Número de ejemplos:\", Y_train.shape[0])\n",
        "print(\"Número de características:\", X_train.shape[1])\n",
        "\n",
        "# Lista para almacenar los valores de costo\n",
        "cost_values = []\n",
        "theta_values = np.linspace(-1, 1, 100)\n",
        "\n",
        "# Calcular el costo para diferentes valores de theta\n",
        "for t in theta_values:\n",
        "    theta_test = np.copy(theta_for_class)\n",
        "    theta_test[1] = t\n",
        "    X_with_intercept = np.concatenate([np.ones((X_train.shape[0], 1)), X_train], axis=1)\n",
        "    cost = plot_cost_function(X_with_intercept, Y_train, theta_test, lambda_)\n",
        "    cost_values.append(cost)\n",
        "\n",
        "# Graficar la función de costo\n",
        "plt.plot(theta_values, cost_values, 'b-')\n",
        "plt.xlabel('Valor de theta')\n",
        "plt.ylabel('Costo')\n",
        "plt.title('Función de Costo para la Clase 7')\n",
        "plt.show()"
      ]
    },
    {
      "cell_type": "code",
      "execution_count": 38,
      "metadata": {
        "colab": {
          "base_uri": "https://localhost:8080/"
        },
        "id": "mbTIYIBJl_w8",
        "outputId": "18920c21-6dd1-4498-c897-72cb37d28f6f"
      },
      "outputs": [
        {
          "name": "stdout",
          "output_type": "stream",
          "text": [
            "(116203, 54)\n",
            "Precision del conjuto de entrenamiento: 60.70%\n",
            "(100, 54)\n",
            "(100, 55)\n",
            "[2 1 2 1 2 1 2 2 2 2 2 2 1 2 1 1 2 2 2 1 1 1 1 2 2 1 2 2 2 1 1 1 1 2 2 2 2\n",
            " 2 2 1 1 2 2 2 2 2 2 2 2 2 2 2 2 2 2 2 2 2 1 1 2 2 2 2 2 1 2 2 1 2 1 2 1 1\n",
            " 1 1 2 2 2 2 1 2 2 2 2 2 2 2 1 2 2 1 2 2 1 1 2 2 2 2] [2 7 2 1 1 1 2 1 1 2 2 2 1 3 1 2 7 2 2 1 1 7 1 2 2 1 3 3 2 1 2 1 2 2 1 2 1\n",
            " 5 2 2 2 2 1 2 2 2 2 2 2 2 2 1 1 2 1 1 2 2 1 1 2 2 7 2 2 2 2 1 2 2 1 3 1 1\n",
            " 1 1 2 2 2 1 1 2 2 2 1 1 2 1 1 2 2 2 3 1 1 7 1 2 2 2]\n"
          ]
        }
      ],
      "source": [
        "print(X_test.shape)\n",
        "pred = predictOneVsAll(all_theta, X_test)\n",
        "print('Precision del conjuto de entrenamiento: {:.2f}%'.format(np.mean(pred == y_test) * 100))\n",
        "m_test = y_test.size\n",
        "rand_indices = np.random.choice(m_test, 100, replace=False)\n",
        "XPrueba = X_test[rand_indices, :]\n",
        "XPruebaV = XPrueba.copy()\n",
        "print(XPrueba.shape)\n",
        "XPrueba = np.concatenate([np.ones((100, 1)), XPrueba], axis=1)\n",
        "print(XPrueba.shape)\n",
        "p = np.argmax(sigmoid(XPrueba.dot(all_theta.T)), axis = 1)\n",
        "print(p, y_test[rand_indices])\n",
        "\n",
        "\n",
        "\n"
      ]
    }
  ],
  "metadata": {
    "accelerator": "GPU",
    "colab": {
      "provenance": []
    },
    "kernelspec": {
      "display_name": "Python 3",
      "language": "python",
      "name": "python3"
    },
    "language_info": {
      "codemirror_mode": {
        "name": "ipython",
        "version": 3
      },
      "file_extension": ".py",
      "mimetype": "text/x-python",
      "name": "python",
      "nbconvert_exporter": "python",
      "pygments_lexer": "ipython3",
      "version": "3.10.0"
    }
  },
  "nbformat": 4,
  "nbformat_minor": 0
}
